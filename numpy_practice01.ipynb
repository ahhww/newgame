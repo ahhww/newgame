{
 "cells": [
  {
   "cell_type": "code",
   "execution_count": 2,
   "metadata": {},
   "outputs": [
    {
     "name": "stdout",
     "output_type": "stream",
     "text": [
      "A+B =  [5 5 3]\n",
      "A-B =  [-3 -1  3]\n"
     ]
    }
   ],
   "source": [
    "import numpy as np\n",
    "A = np.array([1,2,3])\n",
    "B = np.array([4,3,0])\n",
    "print('A+B = ',np.add(A,B))\n",
    "print('A-B = ',np.subtract(A,B))"
   ]
  },
  {
   "cell_type": "code",
   "execution_count": 5,
   "metadata": {},
   "outputs": [
    {
     "name": "stdout",
     "output_type": "stream",
     "text": [
      "np.dot(C,D) =  [[18 11 16 16]\n",
      " [ 9  6 12 12]]\n",
      "np.matmul(C,D) =  [[18 11 16 16]\n",
      " [ 9  6 12 12]]\n",
      "  C@D =  [[18 11 16 16]\n",
      " [ 9  6 12 12]]\n",
      "np.multiply(D,D) =  [[16  9 81 81]\n",
      " [ 1  1  4  4]\n",
      " [16  4  1  1]]\n",
      "  D*D =  [[16  9 81 81]\n",
      " [ 1  1  4  4]\n",
      " [16  4  1  1]]\n"
     ]
    }
   ],
   "source": [
    "C = np.array([[1,2,3],\n",
    "             [1,1,1]])\n",
    "D = np.array([[4,3,9,9],\n",
    "             [1,1,2,2],\n",
    "             [4,2,1,1]])\n",
    "\n",
    "#矩阵与矩阵相乘\n",
    "print('np.dot(C,D) = ',np.dot(C,D))\n",
    "print('np.matmul(C,D) = ',np.matmul(C,D))\n",
    "print('  C@D = ',np.matmul(C,D))\n",
    "\n",
    "#元素与元素相乘\n",
    "print('np.multiply(D,D) = ',np.multiply(D,D))\n",
    "print('  D*D = ',D*D)"
   ]
  },
  {
   "cell_type": "code",
   "execution_count": 6,
   "metadata": {},
   "outputs": [],
   "source": [
    "m_4_4 = np.array([[1,2,3,4],\n",
    "                 [3,2,1,4],\n",
    "                 [5,4,6,7],\n",
    "                 [11,12,13,14]])\n",
    "m_3_4_2 = np.array([\n",
    "                   [\n",
    "                       [2,3],\n",
    "                       [11,9],\n",
    "                       [32,21],\n",
    "                       [28,17]\n",
    "                   ],\n",
    "                   [\n",
    "                       [2,3],\n",
    "                       [1,9],\n",
    "                       [3,21],\n",
    "                       [28,7]\n",
    "                   ],\n",
    "                   [\n",
    "                       [2,3],\n",
    "                       [1,9],\n",
    "                       [3,21],\n",
    "                       [28,7]\n",
    "                   ]\n",
    "                    ])"
   ]
  },
  {
   "cell_type": "code",
   "execution_count": 8,
   "metadata": {},
   "outputs": [
    {
     "name": "stdout",
     "output_type": "stream",
     "text": [
      "(4, 4)\n",
      "(3, 4, 2)\n"
     ]
    }
   ],
   "source": [
    "print(m_4_4.shape)\n",
    "print(m_3_4_2.shape)"
   ]
  },
  {
   "cell_type": "code",
   "execution_count": 9,
   "metadata": {},
   "outputs": [
    {
     "name": "stdout",
     "output_type": "stream",
     "text": [
      "4x4*3x4x2 dot:\n",
      " [[[232 152]\n",
      "  [125 112]\n",
      "  [125 112]]\n",
      "\n",
      " [[172 116]\n",
      "  [123  76]\n",
      "  [123  76]]\n",
      "\n",
      " [[442 296]\n",
      "  [228 226]\n",
      "  [228 226]]\n",
      "\n",
      " [[962 652]\n",
      "  [465 512]\n",
      "  [465 512]]] \n",
      "\n"
     ]
    }
   ],
   "source": [
    "#dot  把m_4_4分成4块，每块是1_4；把把m_3_4_2分成3块，每块是4_2. 做1_4*4_2运算\n",
    "print('4x4*3x4x2 dot:\\n {} \\n'.format(np.dot(m_4_4,m_3_4_2)))"
   ]
  },
  {
   "cell_type": "code",
   "execution_count": 10,
   "metadata": {},
   "outputs": [
    {
     "name": "stdout",
     "output_type": "stream",
     "text": [
      "4x4*3x4x2 matmul:\n",
      " [[[232 152]\n",
      "  [172 116]\n",
      "  [442 296]\n",
      "  [962 652]]\n",
      "\n",
      " [[125 112]\n",
      "  [123  76]\n",
      "  [228 226]\n",
      "  [465 512]]\n",
      "\n",
      " [[125 112]\n",
      "  [123  76]\n",
      "  [228 226]\n",
      "  [465 512]]] \n",
      "\n"
     ]
    }
   ],
   "source": [
    "#matmul  把m_3_4_2分成3块，每块做4_4 * 4_2运算\n",
    "print('4x4*3x4x2 matmul:\\n {} \\n'.format(np.matmul(m_4_4,m_3_4_2)))"
   ]
  },
  {
   "cell_type": "code",
   "execution_count": 11,
   "metadata": {},
   "outputs": [
    {
     "data": {
      "text/plain": [
       "array([[232, 152],\n",
       "       [172, 116],\n",
       "       [442, 296],\n",
       "       [962, 652]])"
      ]
     },
     "execution_count": 11,
     "metadata": {},
     "output_type": "execute_result"
    }
   ],
   "source": [
    "np.dot(m_4_4,m_3_4_2[0,:,:])"
   ]
  },
  {
   "cell_type": "code",
   "execution_count": 12,
   "metadata": {},
   "outputs": [
    {
     "data": {
      "text/plain": [
       "array([[232, 125, 125],\n",
       "       [172, 123, 123],\n",
       "       [442, 228, 228],\n",
       "       [962, 465, 465]])"
      ]
     },
     "execution_count": 12,
     "metadata": {},
     "output_type": "execute_result"
    }
   ],
   "source": [
    "np.matmul(m_4_4,m_3_4_2[:,:,0].T)"
   ]
  },
  {
   "cell_type": "code",
   "execution_count": 1,
   "metadata": {},
   "outputs": [
    {
     "ename": "NameError",
     "evalue": "name 'm_3_4_2' is not defined",
     "output_type": "error",
     "traceback": [
      "\u001b[1;31m---------------------------------------------------------------------------\u001b[0m",
      "\u001b[1;31mNameError\u001b[0m                                 Traceback (most recent call last)",
      "\u001b[1;32m<ipython-input-1-67ec7bb86624>\u001b[0m in \u001b[0;36m<module>\u001b[1;34m()\u001b[0m\n\u001b[1;32m----> 1\u001b[1;33m \u001b[0mm_3_4_2\u001b[0m\u001b[1;33m[\u001b[0m\u001b[1;33m:\u001b[0m\u001b[1;33m,\u001b[0m\u001b[1;33m:\u001b[0m\u001b[1;33m,\u001b[0m\u001b[1;36m0\u001b[0m\u001b[1;33m]\u001b[0m\u001b[1;33m.\u001b[0m\u001b[0mT\u001b[0m\u001b[1;33m\u001b[0m\u001b[0m\n\u001b[0m",
      "\u001b[1;31mNameError\u001b[0m: name 'm_3_4_2' is not defined"
     ]
    }
   ],
   "source": [
    "m_3_4_2[:,:,0].T"
   ]
  }
 ],
 "metadata": {
  "kernelspec": {
   "display_name": "Python 3",
   "language": "python",
   "name": "python3"
  },
  "language_info": {
   "codemirror_mode": {
    "name": "ipython",
    "version": 3
   },
   "file_extension": ".py",
   "mimetype": "text/x-python",
   "name": "python",
   "nbconvert_exporter": "python",
   "pygments_lexer": "ipython3",
   "version": "3.7.0"
  }
 },
 "nbformat": 4,
 "nbformat_minor": 2
}
